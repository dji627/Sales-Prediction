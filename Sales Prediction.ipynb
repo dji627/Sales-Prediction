{
 "cells": [
  {
   "cell_type": "code",
   "execution_count": 1,
   "id": "0114cd0d",
   "metadata": {},
   "outputs": [],
   "source": [
    "#Import libraries\n",
    "import pandas as pd\n",
    "import numpy as np\n",
    "import sys\n",
    "sys.path.insert(0, '../ML-Custom-Functions')\n",
    "from CustomFunctions import *\n"
   ]
  },
  {
   "cell_type": "code",
   "execution_count": 2,
   "id": "5ea24c2d",
   "metadata": {
    "scrolled": true
   },
   "outputs": [],
   "source": [
    "#import datasets\n",
    "train = pd.read_csv('store-sales-time-series-forecasting/train.csv')\n",
    "test = pd.read_csv('store-sales-time-series-forecasting/test.csv')\n",
    "holidays_events = pd.read_csv('store-sales-time-series-forecasting/holidays_events.csv')\n",
    "oil = pd.read_csv('store-sales-time-series-forecasting/oil.csv')\n",
    "stores = pd.read_csv('store-sales-time-series-forecasting/stores.csv')\n",
    "transactions = pd.read_csv('store-sales-time-series-forecasting/transactions.csv')\n",
    "\n",
    "dataSetList = [train,test,holidays_events,oil,stores,transactions]"
   ]
  },
  {
   "cell_type": "code",
   "execution_count": 3,
   "id": "3c188038",
   "metadata": {
    "scrolled": false
   },
   "outputs": [
    {
     "name": "stdout",
     "output_type": "stream",
     "text": [
      "   id        date  store_nbr      family  sales  onpromotion\n",
      "0   0  2013-01-01          1  AUTOMOTIVE    0.0            0\n",
      "1   1  2013-01-01          1   BABY CARE    0.0            0\n",
      "2   2  2013-01-01          1      BEAUTY    0.0            0\n",
      "3   3  2013-01-01          1   BEVERAGES    0.0            0\n",
      "4   4  2013-01-01          1       BOOKS    0.0            0\n",
      "id               int64\n",
      "date            object\n",
      "store_nbr        int64\n",
      "family          object\n",
      "sales          float64\n",
      "onpromotion      int64\n",
      "dtype: object\n"
     ]
    }
   ],
   "source": [
    "showDataInfo(train,features_to_display = 'All',show_features_applied = True,show_data_details=False)"
   ]
  },
  {
   "cell_type": "code",
   "execution_count": null,
   "id": "8e935be8",
   "metadata": {},
   "outputs": [],
   "source": []
  },
  {
   "cell_type": "code",
   "execution_count": null,
   "id": "b3af97b7",
   "metadata": {},
   "outputs": [],
   "source": []
  }
 ],
 "metadata": {
  "kernelspec": {
   "display_name": "Python 3 (ipykernel)",
   "language": "python",
   "name": "python3"
  },
  "language_info": {
   "codemirror_mode": {
    "name": "ipython",
    "version": 3
   },
   "file_extension": ".py",
   "mimetype": "text/x-python",
   "name": "python",
   "nbconvert_exporter": "python",
   "pygments_lexer": "ipython3",
   "version": "3.9.13"
  }
 },
 "nbformat": 4,
 "nbformat_minor": 5
}
